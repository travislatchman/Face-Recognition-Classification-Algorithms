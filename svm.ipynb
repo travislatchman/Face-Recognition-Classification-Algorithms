{
  "cells": [
    {
      "cell_type": "markdown",
      "metadata": {
        "id": "view-in-github",
        "colab_type": "text"
      },
      "source": [
        "<a href=\"https://colab.research.google.com/github/travislatchman/Face-Recognition-Classification-Algorithms/blob/main/svm.ipynb\" target=\"_parent\"><img src=\"https://colab.research.google.com/assets/colab-badge.svg\" alt=\"Open In Colab\"/></a>"
      ]
    },
    {
      "cell_type": "code",
      "execution_count": null,
      "metadata": {
        "id": "_urTGvYu33DO"
      },
      "outputs": [],
      "source": [
        "import numpy as np\n",
        "import matplotlib.pyplot as plt\n",
        "from sklearn.svm import SVC\n",
        "import scipy.io\n"
      ]
    },
    {
      "cell_type": "code",
      "execution_count": null,
      "metadata": {
        "id": "vOWMvRvi33DQ"
      },
      "outputs": [],
      "source": [
        "\n",
        "# set random seed for reproducibility\n",
        "np.random.seed(42)\n"
      ]
    },
    {
      "cell_type": "code",
      "execution_count": null,
      "metadata": {
        "id": "OhTMbh3p33DQ"
      },
      "outputs": [],
      "source": [
        "# import the file YaleB-32x32.mat\n",
        "YaleB = scipy.io.loadmat('YaleB_32x32.mat')\n"
      ]
    },
    {
      "cell_type": "code",
      "execution_count": null,
      "metadata": {
        "id": "6ZIeRUTZ33DQ"
      },
      "outputs": [],
      "source": [
        "# Access variables\n",
        "fea = YaleB['fea']  # every row is a face\n",
        "gnd = YaleB['gnd'].ravel()  # labels\n"
      ]
    },
    {
      "cell_type": "code",
      "execution_count": null,
      "metadata": {
        "id": "5-20iOqs33DR"
      },
      "outputs": [],
      "source": [
        "\n",
        "# define range of m values to try\n",
        "m_values = [10, 20, 30, 40, 50]\n",
        "\n",
        "# initialize variables to store classification errors for each value of m\n",
        "classification_errors = []\n"
      ]
    },
    {
      "cell_type": "code",
      "execution_count": null,
      "metadata": {
        "id": "euzA2ccv33DR"
      },
      "outputs": [],
      "source": [
        "\n",
        "# loop over m values\n",
        "for m in m_values:\n",
        "    # randomly select m images per individual to form the training set\n",
        "    train_data = []\n",
        "    train_labels = []\n",
        "    test_data = []\n",
        "    test_labels = []\n",
        "    for label in np.unique(gnd):\n",
        "        label_indices = np.where(gnd == label)[0]\n",
        "        np.random.shuffle(label_indices)\n",
        "        train_indices = label_indices[:m]\n",
        "        test_indices = label_indices[m:]\n",
        "        train_data.append(fea[train_indices])\n",
        "        train_labels.append(gnd[train_indices])\n",
        "        test_data.append(fea[test_indices])\n",
        "        test_labels.append(gnd[test_indices])\n",
        "    train_data = np.concatenate(train_data, axis=0)\n",
        "    train_labels = np.concatenate(train_labels, axis=0)\n",
        "    test_data = np.concatenate(test_data, axis=0)\n",
        "    test_labels = np.concatenate(test_labels, axis=0)\n",
        "\n",
        "    # apply SVM to training data\n",
        "    svm = SVC(kernel='linear')\n",
        "    svm.fit(train_data, train_labels)\n",
        "\n",
        "    # predict test set labels\n",
        "    pred_labels = svm.predict(test_data)\n",
        "\n",
        "    # calculate classification error rate\n",
        "    classification_error_rate = np.sum(\n",
        "        pred_labels != test_labels) / len(test_labels) * 100\n",
        "\n",
        "    # store classification error rate\n",
        "    classification_errors.append(classification_error_rate)\n"
      ]
    },
    {
      "cell_type": "code",
      "execution_count": null,
      "metadata": {
        "id": "qyc4NtOe33DR",
        "outputId": "8223cbed-c4db-49b3-936b-0e220f152605"
      },
      "outputs": [
        {
          "data": {
            "text/plain": [
              "[28.56440511307768,\n",
              " 12.515114873035065,\n",
              " 8.712715855572998,\n",
              " 8.165548098434003,\n",
              " 7.003891050583658]"
            ]
          },
          "execution_count": 8,
          "metadata": {},
          "output_type": "execute_result"
        }
      ],
      "source": [
        "classification_errors\n"
      ]
    },
    {
      "cell_type": "code",
      "execution_count": null,
      "metadata": {
        "id": "08Jj1EH_33DT",
        "outputId": "157d355b-5a94-4b1d-e841-b881c9e86843"
      },
      "outputs": [
        {
          "data": {
            "image/png": "[encoded data removed]",
            "text/plain": [
              "<Figure size 432x288 with 1 Axes>"
            ]
          },
          "metadata": {
            "needs_background": "light"
          },
          "output_type": "display_data"
        }
      ],
      "source": [
        "\n",
        "# plot Classification Error Rate vs Number of Trainings Samples curves\n",
        "plt.plot(m_values, classification_errors)\n",
        "plt.xlabel('Number of Training Samples')\n",
        "plt.ylabel('Classification Error Rate (%)')\n",
        "plt.title('SVM Classification Error')\n",
        "plt.show()\n"
      ]
    }
  ],
  "metadata": {
    "kernelspec": {
      "display_name": "Python 3",
      "language": "python",
      "name": "python3"
    },
    "language_info": {
      "codemirror_mode": {
        "name": "ipython",
        "version": 3
      },
      "file_extension": ".py",
      "mimetype": "text/x-python",
      "name": "python",
      "nbconvert_exporter": "python",
      "pygments_lexer": "ipython3",
      "version": "3.9.13"
    },
    "orig_nbformat": 4,
    "vscode": {
      "interpreter": {
        "hash": "aee8b7b246df8f9039afb4144a1f6fd8d2ca17a180786b69acc140d282b71a49"
      }
    },
    "colab": {
      "provenance": [],
      "include_colab_link": true
    }
  },
  "nbformat": 4,
  "nbformat_minor": 0
}