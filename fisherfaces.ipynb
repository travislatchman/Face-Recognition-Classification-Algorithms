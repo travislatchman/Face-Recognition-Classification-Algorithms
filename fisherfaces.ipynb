{
  "cells": [
    {
      "cell_type": "markdown",
      "metadata": {
        "id": "view-in-github",
        "colab_type": "text"
      },
      "source": [
        "<a href=\"https://colab.research.google.com/github/travislatchman/Face-Recognition-Classification-Algorithms/blob/main/fisherfaces.ipynb\" target=\"_parent\"><img src=\"https://colab.research.google.com/assets/colab-badge.svg\" alt=\"Open In Colab\"/></a>"
      ]
    },
    {
      "cell_type": "code",
      "execution_count": null,
      "metadata": {
        "id": "rrW8l_ZN344r"
      },
      "outputs": [],
      "source": [
        "import numpy as np\n",
        "import matplotlib.pyplot as plt\n",
        "from sklearn.decomposition import PCA\n",
        "from sklearn.discriminant_analysis import LinearDiscriminantAnalysis\n",
        "from sklearn.neighbors import KNeighborsClassifier\n",
        "import scipy.io\n"
      ]
    },
    {
      "cell_type": "code",
      "execution_count": null,
      "metadata": {
        "id": "-wVnNc-r344v"
      },
      "outputs": [],
      "source": [
        "# set random seed for reproducibility\n",
        "np.random.seed(42)\n"
      ]
    },
    {
      "cell_type": "code",
      "execution_count": null,
      "metadata": {
        "id": "avDr2sao344w"
      },
      "outputs": [],
      "source": [
        "# import the file YaleB-32x32.mat\n",
        "YaleB = scipy.io.loadmat('YaleB_32x32.mat')\n"
      ]
    },
    {
      "cell_type": "code",
      "execution_count": null,
      "metadata": {
        "id": "CbULBz4r344x"
      },
      "outputs": [],
      "source": [
        "# Access variables\n",
        "fea = YaleB['fea']  # every row is a face\n",
        "gnd = YaleB['gnd'].ravel()  # labels\n"
      ]
    },
    {
      "cell_type": "code",
      "execution_count": null,
      "metadata": {
        "id": "Aq0gDphv344x"
      },
      "outputs": [],
      "source": [
        "\n",
        "# define range of m values to try\n",
        "m_values = [10, 20, 30, 40, 50]\n",
        "\n",
        "# initialize variables to store classification errors for each value of m\n",
        "classification_errors = []\n"
      ]
    },
    {
      "cell_type": "code",
      "execution_count": null,
      "metadata": {
        "id": "lTjpzqCz344y"
      },
      "outputs": [],
      "source": [
        "\n",
        "# loop over m values\n",
        "for m in m_values:\n",
        "    # randomly select m images per individual to form the training set\n",
        "    train_data = []\n",
        "    train_labels = []\n",
        "    test_data = []\n",
        "    test_labels = []\n",
        "    for label in np.unique(gnd):\n",
        "        label_indices = np.where(gnd == label)[0]\n",
        "        np.random.shuffle(label_indices)\n",
        "        train_indices = label_indices[:m]\n",
        "        test_indices = label_indices[m:]\n",
        "        train_data.append(fea[train_indices])\n",
        "        train_labels.append(gnd[train_indices])\n",
        "        test_data.append(fea[test_indices])\n",
        "        test_labels.append(gnd[test_indices])\n",
        "    train_data = np.concatenate(train_data, axis=0)\n",
        "    train_labels = np.concatenate(train_labels, axis=0)\n",
        "    test_data = np.concatenate(test_data, axis=0)\n",
        "    test_labels = np.concatenate(test_labels, axis=0)\n",
        "\n",
        "    # apply PCA to training and test data\n",
        "    #pca = PCA(n_components=100, svd_solver='randomized', whiten=True)\n",
        "    # pca = PCA(n_components=100)\n",
        "    # pca.fit(train_data)\n",
        "    # train_pca = pca.transform(train_data)\n",
        "    # test_pca = pca.transform(test_data)\n",
        "\n",
        "    # apply LDA to training data\n",
        "    # lda = LinearDiscriminantAnalysis(\n",
        "    #     n_components=min(37, len(np.unique(train_labels))))\n",
        "    # lda.fit(train_pca, train_labels)\n",
        "    # train_lda = lda.transform(train_pca)\n",
        "    # test_lda = lda.transform(test_pca)\n",
        "\n",
        "    lda = LinearDiscriminantAnalysis(\n",
        "        n_components=min(37, len(np.unique(train_labels))))\n",
        "    lda.fit(train_data, train_labels)\n",
        "    train_lda = lda.transform(train_data)\n",
        "    test_lda = lda.transform(test_data)\n",
        "\n",
        "    # train k-NN classifier on training data and compute classification error on test data\n",
        "    knn = KNeighborsClassifier(n_neighbors=1)\n",
        "    knn.fit(train_lda, train_labels)\n",
        "    predicted_labels = knn.predict(test_lda)\n",
        "    classification_errors.append(\n",
        "        np.sum(predicted_labels != test_labels) / test_labels.shape[0] * 100)\n"
      ]
    },
    {
      "cell_type": "code",
      "execution_count": null,
      "metadata": {
        "id": "zjyvP1wd3440",
        "outputId": "ca6a62d0-86bc-4234-ead8-e580e62e80b6"
      },
      "outputs": [
        {
          "data": {
            "text/plain": [
              "[22.566371681415927,\n",
              " 14.873035066505441,\n",
              " 20.015698587127158,\n",
              " 4.47427293064877,\n",
              " 3.3073929961089497]"
            ]
          },
          "execution_count": 222,
          "metadata": {},
          "output_type": "execute_result"
        }
      ],
      "source": [
        "classification_errors\n"
      ]
    },
    {
      "cell_type": "code",
      "execution_count": null,
      "metadata": {
        "id": "DctevrTD3442",
        "outputId": "9bd4b3f6-2c79-466a-eeb1-dd2f3efe28f6"
      },
      "outputs": [
        {
          "data": {
            "image/png": "[encoded data removed]",
            "text/plain": [
              "<Figure size 432x288 with 1 Axes>"
            ]
          },
          "metadata": {
            "needs_background": "light"
          },
          "output_type": "display_data"
        }
      ],
      "source": [
        "\n",
        "# plot classification errors vs. number of training samples\n",
        "plt.plot(m_values, classification_errors, '-o')\n",
        "plt.xlabel('Number of Training Samples')\n",
        "plt.ylabel('Classification Error Rate (%)')\n",
        "plt.title('LDA')\n",
        "plt.show()\n"
      ]
    },
    {
      "cell_type": "markdown",
      "metadata": {
        "id": "VeqPQlxN3442"
      },
      "source": [
        "### this is just a reimplementation of the previous code block for LDA"
      ]
    },
    {
      "cell_type": "code",
      "execution_count": null,
      "metadata": {
        "id": "Gwr18XE03443"
      },
      "outputs": [],
      "source": [
        "\n",
        "\n",
        "# loop over m values\n",
        "for m in m_values:\n",
        "    # randomly select m images per individual to form the training set\n",
        "    train_data = []\n",
        "    train_labels = []\n",
        "    test_data = []\n",
        "    test_labels = []\n",
        "    for label in np.unique(gnd):\n",
        "        label_indices = np.where(gnd == label)[0]\n",
        "        np.random.shuffle(label_indices)\n",
        "        train_indices = label_indices[:m]\n",
        "        test_indices = label_indices[m:]\n",
        "        train_data.append(fea[train_indices])\n",
        "        train_labels.append(gnd[train_indices])\n",
        "        test_data.append(fea[test_indices])\n",
        "        test_labels.append(gnd[test_indices])\n",
        "    train_data = np.concatenate(train_data, axis=0)\n",
        "    train_labels = np.concatenate(train_labels, axis=0)\n",
        "    test_data = np.concatenate(test_data, axis=0)\n",
        "    test_labels = np.concatenate(test_labels, axis=0)\n",
        "\n",
        "    # apply Fisherfaces to training data\n",
        "    lda = LinearDiscriminantAnalysis(n_components=min(\n",
        "        train_data.shape[0]-1, len(np.unique(train_labels))-1))\n",
        "    lda.fit(train_data, train_labels)\n",
        "    train_data_lda = lda.transform(train_data)\n",
        "    test_data_lda = lda.transform(test_data)\n",
        "\n",
        "    # train k-NN algorithm on LDA-transformed training data\n",
        "    neigh = KNeighborsClassifier(n_neighbors=1)\n",
        "    neigh.fit(train_data_lda, train_labels)\n",
        "\n",
        "    # predict test set labels\n",
        "    pred_labels = neigh.predict(test_data_lda)\n",
        "\n",
        "    # calculate classification error rate\n",
        "    classification_error_rate = np.sum(\n",
        "        pred_labels != test_labels) / len(test_labels) * 100\n",
        "\n",
        "    # store classification error rate\n",
        "    classification_errors.append(classification_error_rate)\n"
      ]
    },
    {
      "cell_type": "code",
      "execution_count": null,
      "metadata": {
        "id": "wL49ibbh3444",
        "outputId": "08601132-b533-46f6-862c-6652f257395d"
      },
      "outputs": [
        {
          "data": {
            "text/plain": [
              "[22.566371681415927,\n",
              " 14.873035066505441,\n",
              " 20.015698587127158,\n",
              " 4.47427293064877,\n",
              " 3.3073929961089497]"
            ]
          },
          "execution_count": 7,
          "metadata": {},
          "output_type": "execute_result"
        }
      ],
      "source": [
        "classification_errors\n"
      ]
    },
    {
      "cell_type": "code",
      "execution_count": null,
      "metadata": {
        "id": "TeSh9Oc_3445",
        "outputId": "dec0af27-a9d5-477d-ad9d-cfe8f7ad0e20"
      },
      "outputs": [
        {
          "data": {
            "image/png": "[encoded data removed]",
            "text/plain": [
              "<Figure size 432x288 with 1 Axes>"
            ]
          },
          "metadata": {
            "needs_background": "light"
          },
          "output_type": "display_data"
        }
      ],
      "source": [
        "\n",
        "# plot classification errors vs. number of training samples\n",
        "plt.plot(m_values, classification_errors, '-o')\n",
        "plt.xlabel('Number of Training Samples')\n",
        "plt.ylabel('Classification Error Rate (%)')\n",
        "plt.title('LDA')\n",
        "plt.show()\n"
      ]
    },
    {
      "cell_type": "markdown",
      "metadata": {
        "id": "zHYi2VSL3446"
      },
      "source": [
        "### LDA from scratch"
      ]
    },
    {
      "cell_type": "code",
      "execution_count": null,
      "metadata": {
        "id": "YBr_v91e3446"
      },
      "outputs": [],
      "source": [
        "def lda_fisherfaces(train_data, train_labels, test_data, test_labels, num_components):\n",
        "    # Compute mean face\n",
        "    mean_face = np.mean(train_data, axis=0)\n",
        "\n",
        "    # Compute difference faces\n",
        "    phi = train_data - mean_face\n",
        "\n",
        "    # Compute within-class scatter matrix Sw and between-class scatter matrix Sb\n",
        "    classes = np.unique(train_labels)\n",
        "    num_classes = len(classes)\n",
        "    Sw = np.zeros((train_data.shape[1], train_data.shape[1]))\n",
        "    Sb = np.zeros((train_data.shape[1], train_data.shape[1]))\n",
        "    for c in classes:\n",
        "        class_indices = np.where(train_labels == c)[0]\n",
        "        class_data = train_data[class_indices]\n",
        "        class_phi = phi[class_indices]\n",
        "        class_mean = np.mean(class_data, axis=0)\n",
        "        class_phi_mean = np.mean(class_phi, axis=0)\n",
        "        Sw += np.dot(class_phi.T, class_phi)\n",
        "        Sb += len(class_indices) * \\\n",
        "            np.outer((class_mean - mean_face), (class_phi_mean))\n",
        "\n",
        "    # Compute LDA matrix\n",
        "    # Solve the generalized eigenvalue problem\n",
        "    eigvals, eigvecs = np.linalg.eig(np.dot(np.linalg.inv(Sw), Sb))\n",
        "    eigvecs = eigvecs[:, np.argsort(eigvals)[::-1]]\n",
        "    lda_matrix = eigvecs[:, :num_classes - 1]\n",
        "\n",
        "    # Project train and test data onto LDA subspace\n",
        "    lda_train_data = np.dot(train_data - mean_face, lda_matrix)\n",
        "    lda_test_data = np.dot(test_data - mean_face, lda_matrix)\n",
        "\n",
        "    # Predict test labels\n",
        "    test_predictions = []\n",
        "    for i in range(lda_test_data.shape[0]):\n",
        "        distances = np.sum(\n",
        "            np.square(lda_train_data - lda_test_data[i]), axis=1)\n",
        "        closest_index = np.argmin(distances)\n",
        "        closest_label = train_labels[closest_index]\n",
        "        test_predictions.append(closest_label)\n",
        "    test_predictions = np.array(test_predictions)\n",
        "\n",
        "    # Compute classification error rate\n",
        "    classification_error = 100 * \\\n",
        "        np.sum(test_predictions != test_labels) / len(test_labels)\n",
        "\n",
        "    return classification_error\n"
      ]
    },
    {
      "cell_type": "code",
      "execution_count": null,
      "metadata": {
        "id": "o7E_RiIB3446"
      },
      "outputs": [],
      "source": [
        "# define range of m values to try\n",
        "m_values = [10, 20, 30, 40, 50]\n",
        "\n",
        "# initialize variables to store classification errors for each value of m\n",
        "classification_errors = []\n",
        "\n",
        "\n",
        "# loop over m values\n",
        "for m in m_values:\n",
        "    # randomly select m images per individual to form the training set\n",
        "    train_data = []\n",
        "    train_labels = []\n",
        "    test_data = []\n",
        "    test_labels = []\n",
        "    for label in np.unique(gnd):\n",
        "        label_indices = np.where(gnd == label)[0]\n",
        "        np.random.shuffle(label_indices)\n",
        "        train_indices = label_indices[:m]\n",
        "        test_indices = label_indices[m:]\n",
        "        train_data.append(fea[train_indices])\n",
        "        train_labels.append(gnd[train_indices])\n",
        "        test_data.append(fea[test_indices])\n",
        "        test_labels.append(gnd[test_indices])\n",
        "    train_data = np.concatenate(train_data, axis=0)\n",
        "    train_labels = np.concatenate(train_labels, axis=0)\n",
        "    test_data = np.concatenate(test_data, axis=0)\n",
        "    test_labels = np.concatenate(test_labels, axis=0)\n",
        "\n",
        "    # apply LDA Fisherfaces\n",
        "    classification_error = lda_fisherfaces(train_data, train_labels, test_data, test_labels, 37)\n",
        "\n",
        "    classification_errors.append(classification_error)\n"
      ]
    },
    {
      "cell_type": "code",
      "execution_count": null,
      "metadata": {
        "id": "S6s_hzOD3447",
        "outputId": "d09fe9f2-ccdd-4356-bdf5-1fe0cab7a3da"
      },
      "outputs": [
        {
          "data": {
            "text/plain": [
              "[98.13176007866274,\n",
              " 97.03748488512697,\n",
              " 19.23076923076923,\n",
              " 5.9284116331096195,\n",
              " 3.307392996108949]"
            ]
          },
          "execution_count": 226,
          "metadata": {},
          "output_type": "execute_result"
        }
      ],
      "source": [
        "classification_errors"
      ]
    },
    {
      "cell_type": "code",
      "execution_count": null,
      "metadata": {
        "id": "sVnjo4Hj3449",
        "outputId": "d07f6566-218b-4c0f-a0db-35df85aee648"
      },
      "outputs": [
        {
          "data": {
            "image/png": "[encoded data removed]",
            "text/plain": [
              "<Figure size 432x288 with 1 Axes>"
            ]
          },
          "metadata": {
            "needs_background": "light"
          },
          "output_type": "display_data"
        }
      ],
      "source": [
        "# plot classification error rates against number of training samples\n",
        "plt.plot(m_values, classification_errors)\n",
        "plt.xlabel('Number of Training Samples')\n",
        "plt.ylabel('Classification Error Rate (%)')\n",
        "plt.title('LDA-Fisherfaces Classification Error vs Number of Training Samples')\n",
        "plt.show()\n"
      ]
    },
    {
      "cell_type": "code",
      "execution_count": null,
      "metadata": {
        "id": "t6IsC11K3449"
      },
      "outputs": [],
      "source": [
        "def lda(train_data, train_labels):\n",
        "    \"\"\"\n",
        "    Computes LDA projection matrix for given training data and labels.\n",
        "\n",
        "    Parameters:\n",
        "        train_data (numpy array): Training data matrix with each row representing a feature vector.\n",
        "        train_labels (numpy array): Training data labels.\n",
        "\n",
        "    Returns:\n",
        "        lda_matrix (numpy array): LDA projection matrix.\n",
        "    \"\"\"\n",
        "\n",
        "    # number of classes\n",
        "    classes = np.unique(train_labels)\n",
        "    num_classes = len(classes)\n",
        "\n",
        "    # class-wise mean vectors\n",
        "    class_mean_vectors = []\n",
        "    for c in classes:\n",
        "        class_data = train_data[train_labels == c, :]\n",
        "        class_mean_vectors.append(np.mean(class_data, axis=0))\n",
        "    class_mean_vectors = np.array(class_mean_vectors)\n",
        "\n",
        "    # within-class scatter matrix\n",
        "    within_class_scatter_matrix = np.zeros(\n",
        "        (train_data.shape[1], train_data.shape[1]))\n",
        "    for c, mean_vec in zip(classes, class_mean_vectors):\n",
        "        class_data = train_data[train_labels == c, :]\n",
        "        class_scatter_matrix = np.zeros(\n",
        "            (train_data.shape[1], train_data.shape[1]))\n",
        "        for row in class_data:\n",
        "            row, mean_vec = row.reshape(\n",
        "                train_data.shape[1], 1), mean_vec.reshape(train_data.shape[1], 1)\n",
        "            class_scatter_matrix += (row - mean_vec).dot((row - mean_vec).T)\n",
        "        within_class_scatter_matrix += class_scatter_matrix\n",
        "\n",
        "    # between-class scatter matrix\n",
        "    overall_mean_vector = np.mean(train_data, axis=0)\n",
        "    between_class_scatter_matrix = np.zeros(\n",
        "        (train_data.shape[1], train_data.shape[1]))\n",
        "    for c, mean_vec in zip(classes, class_mean_vectors):\n",
        "        n = train_data[train_labels == c, :].shape[0]\n",
        "        mean_vec = mean_vec.reshape(train_data.shape[1], 1)\n",
        "        overall_mean_vector = overall_mean_vector.reshape(\n",
        "            train_data.shape[1], 1)\n",
        "        between_class_scatter_matrix += n * \\\n",
        "            (mean_vec - overall_mean_vector).dot((mean_vec - overall_mean_vector).T)\n",
        "\n",
        "    # eigenvectors and eigenvalues of (Sw^-1).Sb\n",
        "    eig_vals, eig_vecs = np.linalg.eig(np.linalg.inv(\n",
        "        within_class_scatter_matrix).dot(between_class_scatter_matrix))\n",
        "\n",
        "    # sort eigenvectors in descending order of eigenvalues\n",
        "    eig_pairs = [(np.abs(eig_vals[i]), eig_vecs[:, i])\n",
        "                 for i in range(len(eig_vals))]\n",
        "    eig_pairs = sorted(eig_pairs, key=lambda x: x[0], reverse=True)\n",
        "\n",
        "    # LDA projection matrix\n",
        "    lda_matrix = np.hstack((eig_pairs[i][1].reshape(\n",
        "        train_data.shape[1], 1) for i in range(num_classes - 1)))\n",
        "\n",
        "    return lda_matrix\n"
      ]
    },
    {
      "cell_type": "code",
      "execution_count": null,
      "metadata": {
        "id": "2GSmK6XM344-",
        "outputId": "41972f21-edfe-447c-d6d5-21eca58d0c67"
      },
      "outputs": [
        {
          "name": "stderr",
          "output_type": "stream",
          "text": [
            "/var/folders/8y/f5g9vg312nj09bbbdbnk_klr0000gn/T/ipykernel_59288/3687969912.py:59: FutureWarning: arrays to stack must be passed as a \"sequence\" type such as list or tuple. Support for non-sequence iterables such as generators is deprecated as of NumPy 1.16 and will raise an error in the future.\n",
            "  lda_matrix = np.hstack((eig_pairs[i][1].reshape(\n"
          ]
        }
      ],
      "source": [
        "# define range of m values to try\n",
        "m_values = [10, 20, 30, 40, 50]\n",
        "\n",
        "# initialize variables to store classification errors for each value of m\n",
        "classification_errors = []\n",
        "\n",
        "\n",
        "# loop over m values\n",
        "for m in m_values:\n",
        "    # randomly select m images per individual to form the training set\n",
        "    train_data = []\n",
        "    train_labels = []\n",
        "    test_data = []\n",
        "    test_labels = []\n",
        "    for label in np.unique(gnd):\n",
        "        label_indices = np.where(gnd == label)[0]\n",
        "        np.random.shuffle(label_indices)\n",
        "        train_indices = label_indices[:m]\n",
        "        test_indices = label_indices[m:]\n",
        "        train_data.append(fea[train_indices])\n",
        "        train_labels.append(gnd[train_indices])\n",
        "        test_data.append(fea[test_indices])\n",
        "        test_labels.append(gnd[test_indices])\n",
        "    train_data = np.concatenate(train_data, axis=0)\n",
        "    train_labels = np.concatenate(train_labels, axis=0)\n",
        "    test_data = np.concatenate(test_data, axis=0)\n",
        "    test_labels = np.concatenate(test_labels, axis=0)\n",
        "\n",
        "    # apply LDA Fisherfaces\n",
        "    lda_matrix = lda(\n",
        "        train_data, train_labels)\n",
        "\n",
        "    mean_face = np.mean(train_data, axis=0)\n",
        "    # Project train and test data onto LDA subspace\n",
        "    lda_train_data = np.dot(train_data - mean_face, lda_matrix)\n",
        "    lda_test_data = np.dot(test_data - mean_face, lda_matrix)\n",
        "\n",
        "    # Predict test labels\n",
        "    test_predictions = []\n",
        "    for i in range(lda_test_data.shape[0]):\n",
        "        distances = np.sum(\n",
        "            np.square(lda_train_data - lda_test_data[i]), axis=1)\n",
        "        closest_index = np.argmin(distances)\n",
        "        closest_label = train_labels[closest_index]\n",
        "        test_predictions.append(closest_label)\n",
        "    test_predictions = np.array(test_predictions)\n",
        "\n",
        "    # Compute classification error rate\n",
        "    classification_error = 100 * \\\n",
        "        np.sum(test_predictions != test_labels) / len(test_labels)\n",
        "\n",
        "    classification_errors.append(classification_error)\n",
        "\n"
      ]
    },
    {
      "cell_type": "code",
      "execution_count": null,
      "metadata": {
        "id": "16syqqJI344-",
        "outputId": "68f7129e-1c63-4242-9846-69eaf0e9a1f5"
      },
      "outputs": [
        {
          "data": {
            "text/plain": [
              "[88.69223205506391,\n",
              " 92.80532043530835,\n",
              " 17.81789638932496,\n",
              " 5.145413870246085,\n",
              " 5.447470817120623]"
            ]
          },
          "execution_count": 230,
          "metadata": {},
          "output_type": "execute_result"
        }
      ],
      "source": [
        "classification_errors\n"
      ]
    }
  ],
  "metadata": {
    "kernelspec": {
      "display_name": "Python 3",
      "language": "python",
      "name": "python3"
    },
    "language_info": {
      "codemirror_mode": {
        "name": "ipython",
        "version": 3
      },
      "file_extension": ".py",
      "mimetype": "text/x-python",
      "name": "python",
      "nbconvert_exporter": "python",
      "pygments_lexer": "ipython3",
      "version": "3.9.13"
    },
    "orig_nbformat": 4,
    "vscode": {
      "interpreter": {
        "hash": "aee8b7b246df8f9039afb4144a1f6fd8d2ca17a180786b69acc140d282b71a49"
      }
    },
    "colab": {
      "provenance": [],
      "include_colab_link": true
    }
  },
  "nbformat": 4,
  "nbformat_minor": 0
}