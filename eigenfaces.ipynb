{
  "cells": [
    {
      "cell_type": "markdown",
      "metadata": {
        "id": "view-in-github",
        "colab_type": "text"
      },
      "source": [
        "<a href=\"https://colab.research.google.com/github/travislatchman/Face-Recognition-Classification-Algorithms/blob/main/eigenfaces.ipynb\" target=\"_parent\"><img src=\"https://colab.research.google.com/assets/colab-badge.svg\" alt=\"Open In Colab\"/></a>"
      ]
    },
    {
      "cell_type": "code",
      "execution_count": null,
      "metadata": {
        "id": "12eyQmag348b"
      },
      "outputs": [],
      "source": [
        "import numpy as np\n",
        "import matplotlib.pyplot as plt\n",
        "from sklearn.decomposition import PCA\n",
        "from sklearn.neighbors import KNeighborsClassifier\n",
        "import scipy.io\n",
        "\n",
        "import random\n"
      ]
    },
    {
      "cell_type": "code",
      "execution_count": null,
      "metadata": {
        "id": "o74awdEr348f"
      },
      "outputs": [],
      "source": [
        "# set random seed for reproducibility\n",
        "np.random.seed(42)\n"
      ]
    },
    {
      "cell_type": "code",
      "execution_count": null,
      "metadata": {
        "id": "rGvCZXOP348f"
      },
      "outputs": [],
      "source": [
        "# import the file YaleB-32x32.mat\n",
        "YaleB = scipy.io.loadmat('YaleB_32x32.mat')\n"
      ]
    },
    {
      "cell_type": "code",
      "execution_count": null,
      "metadata": {
        "id": "xlcOMtKV348g"
      },
      "outputs": [],
      "source": [
        "# Access variables\n",
        "fea = YaleB['fea']  # every row is a face\n",
        "gnd = YaleB['gnd'].ravel()  # labels\n"
      ]
    },
    {
      "cell_type": "code",
      "execution_count": null,
      "metadata": {
        "id": "0GMB6fqG348g"
      },
      "outputs": [],
      "source": [
        "# define range of m values to try\n",
        "m_values = [10, 20, 30, 40, 50]\n"
      ]
    },
    {
      "cell_type": "code",
      "execution_count": null,
      "metadata": {
        "id": "KWF0onim348h"
      },
      "outputs": [],
      "source": [
        "# initialize variables to store classification errors for each value of m\n",
        "classification_errors = []\n"
      ]
    },
    {
      "cell_type": "code",
      "execution_count": null,
      "metadata": {
        "id": "d4rslOlX348j"
      },
      "outputs": [],
      "source": [
        "# loop over m values\n",
        "for m in m_values:\n",
        "    # randomly select m images per individual to form the training set\n",
        "    train_data = []\n",
        "    train_labels = []\n",
        "    test_data = []\n",
        "    test_labels = []\n",
        "    for label in np.unique(gnd):\n",
        "        label_indices = np.where(gnd == label)[0]\n",
        "        np.random.shuffle(label_indices)\n",
        "        train_indices = label_indices[:m]\n",
        "        test_indices = label_indices[m:]\n",
        "        train_data.append(fea[train_indices])\n",
        "        train_labels.append(gnd[train_indices])\n",
        "        test_data.append(fea[test_indices])\n",
        "        test_labels.append(gnd[test_indices])\n",
        "    train_data = np.concatenate(train_data, axis=0)\n",
        "    train_labels = np.concatenate(train_labels, axis=0)\n",
        "    test_data = np.concatenate(test_data, axis=0)\n",
        "    test_labels = np.concatenate(test_labels, axis=0)\n",
        "\n",
        "    # apply PCA to training data\n",
        "    pca = PCA(n_components=100)\n",
        "    pca.fit(train_data)\n",
        "    train_data_pca = pca.transform(train_data)\n",
        "    test_data_pca = pca.transform(test_data)\n",
        "    # train k-NN algorithm on PCA-transformed training data\n",
        "    knn = KNeighborsClassifier(n_neighbors=1)\n",
        "    knn.fit(train_data_pca, train_labels)\n",
        "\n",
        "    # predict test set labels\n",
        "    pred_labels = knn.predict(test_data_pca)\n",
        "\n",
        "    # calculate classification error rate\n",
        "    classification_error_rate = np.sum(pred_labels != test_labels) / len(test_labels) * 100\n",
        "\n",
        "    # store classification error rate\n",
        "    classification_errors.append(classification_error_rate)\n"
      ]
    },
    {
      "cell_type": "code",
      "execution_count": null,
      "metadata": {
        "id": "YJuWzdC3348k",
        "outputId": "32c9e847-96d6-42f0-af7c-cbaaea0fd1b2"
      },
      "outputs": [
        {
          "name": "stdout",
          "output_type": "stream",
          "text": [
            "[59.63618485742379, 46.43288996372431, 39.71742543171114, 34.22818791946309, 30.35019455252918]\n"
          ]
        }
      ],
      "source": [
        "print(classification_errors)\n"
      ]
    },
    {
      "cell_type": "code",
      "execution_count": null,
      "metadata": {
        "id": "0u1ewND8348m",
        "outputId": "eba4cb43-bbeb-4176-d819-77356faa354c"
      },
      "outputs": [
        {
          "data": {
            "image/png": "[encoded data removed]",
            "text/plain": [
              "<Figure size 432x288 with 1 Axes>"
            ]
          },
          "metadata": {
            "needs_background": "light"
          },
          "output_type": "display_data"
        }
      ],
      "source": [
        "# plot Classification Error Rate vs Number of Trainings Samples curves\n",
        "plt.plot(m_values, classification_errors)\n",
        "plt.xlabel('Number of Training Samples')\n",
        "plt.ylabel('Classification Error Rate (%)')\n",
        "plt.title('Eigenfaces (PCA) Classification Error')\n",
        "plt.show()\n"
      ]
    },
    {
      "cell_type": "markdown",
      "metadata": {
        "id": "ikHPc4DZ348m"
      },
      "source": [
        "### PCA built-in function with whitening"
      ]
    },
    {
      "cell_type": "code",
      "execution_count": null,
      "metadata": {
        "id": "8QFFM55R348p"
      },
      "outputs": [],
      "source": [
        "\n",
        "# define range of m values to try\n",
        "m_values = [10, 20, 30, 40, 50]\n",
        "\n",
        "# initialize variables to store classification errors for each value of m\n",
        "classification_errors = []\n",
        "\n",
        "# loop over m values\n",
        "for m in m_values:\n",
        "    # randomly select m images per individual to form the training set\n",
        "    train_data = []\n",
        "    train_labels = []\n",
        "    test_data = []\n",
        "    test_labels = []\n",
        "    for label in np.unique(gnd):\n",
        "        label_indices = np.where(gnd == label)[0]\n",
        "        np.random.shuffle(label_indices)\n",
        "        train_indices = label_indices[:m]\n",
        "        test_indices = label_indices[m:]\n",
        "        train_data.append(fea[train_indices])\n",
        "        train_labels.append(gnd[train_indices])\n",
        "        test_data.append(fea[test_indices])\n",
        "        test_labels.append(gnd[test_indices])\n",
        "    train_data = np.concatenate(train_data, axis=0)\n",
        "    train_labels = np.concatenate(train_labels, axis=0)\n",
        "    test_data = np.concatenate(test_data, axis=0)\n",
        "    test_labels = np.concatenate(test_labels, axis=0)\n",
        "\n",
        "    # apply PCA to training data\n",
        "    pca = PCA(n_components=100, svd_solver='randomized', whiten=True)\n",
        "    pca.fit(train_data)\n",
        "    train_pca = pca.transform(train_data)\n",
        "    test_pca = pca.transform(test_data)\n",
        "\n",
        "    # train k-NN classifier on training data and compute classification error on test data\n",
        "    knn = KNeighborsClassifier(n_neighbors=1)\n",
        "    knn.fit(train_pca, train_labels)\n",
        "    predicted_labels = knn.predict(test_pca)\n",
        "    classification_errors.append(\n",
        "        np.sum(predicted_labels != test_labels) / test_labels.shape[0] * 100)\n"
      ]
    },
    {
      "cell_type": "code",
      "execution_count": null,
      "metadata": {
        "id": "_K78wmAD348q",
        "outputId": "52451862-cf18-47c2-ee8c-255f7fa8451a"
      },
      "outputs": [
        {
          "data": {
            "text/plain": [
              "[23.35299901671583,\n",
              " 15.235792019347038,\n",
              " 11.852433281004709,\n",
              " 10.40268456375839,\n",
              " 9.33852140077821]"
            ]
          },
          "execution_count": 135,
          "metadata": {},
          "output_type": "execute_result"
        }
      ],
      "source": [
        "classification_errors\n"
      ]
    },
    {
      "cell_type": "code",
      "execution_count": null,
      "metadata": {
        "id": "6081IwM3348r",
        "outputId": "a92994f3-6176-4f3f-d27c-1034c9180b83"
      },
      "outputs": [
        {
          "data": {
            "image/png": "[encoded data removed]",
            "text/plain": [
              "<Figure size 432x288 with 1 Axes>"
            ]
          },
          "metadata": {
            "needs_background": "light"
          },
          "output_type": "display_data"
        }
      ],
      "source": [
        "\n",
        "# plot classification errors vs. number of training samples\n",
        "plt.plot(m_values, classification_errors, '-o')\n",
        "plt.xlabel('Number of Training Samples')\n",
        "plt.ylabel('Classification Error Rate (%)')\n",
        "plt.title('Eigenfaces (PCA)')\n",
        "plt.show()\n"
      ]
    },
    {
      "cell_type": "markdown",
      "metadata": {
        "id": "qpKoQxiE348r"
      },
      "source": [
        "### PCA/Eigenfaces from scratch"
      ]
    },
    {
      "cell_type": "code",
      "execution_count": null,
      "metadata": {
        "id": "Ol6OCvTY348s"
      },
      "outputs": [],
      "source": [
        "# define range of m values to try\n",
        "m_values = [10, 20, 30, 40, 50]\n",
        "\n",
        "# initialize variables to store classification errors for each value of m\n",
        "classification_errors = []\n"
      ]
    },
    {
      "cell_type": "code",
      "execution_count": null,
      "metadata": {
        "id": "djX9vL0E348u",
        "outputId": "46eccf90-bae2-44f9-a966-dbafa23dd3ea"
      },
      "outputs": [
        {
          "name": "stdout",
          "output_type": "stream",
          "text": [
            "Classification Error Rate: 59.24287118977385\n",
            "Classification Error Rate: 47.40024183796856\n",
            "Classification Error Rate: 41.679748822605966\n",
            "Classification Error Rate: 37.13646532438479\n",
            "Classification Error Rate: 34.04669260700389\n"
          ]
        }
      ],
      "source": [
        "# loop over m values\n",
        "for m in m_values:\n",
        "    # randomly select m images per individual to form the training set\n",
        "    train_data = []\n",
        "    train_labels = []\n",
        "    test_data = []\n",
        "    test_labels = []\n",
        "    for label in np.unique(gnd):\n",
        "        label_indices = np.where(gnd == label)[0]\n",
        "        np.random.shuffle(label_indices)\n",
        "        train_indices = label_indices[:m]\n",
        "        test_indices = label_indices[m:]\n",
        "        train_data.append(fea[train_indices])\n",
        "        train_labels.append(gnd[train_indices])\n",
        "        test_data.append(fea[test_indices])\n",
        "        test_labels.append(gnd[test_indices])\n",
        "    train_data = np.concatenate(train_data, axis=0)\n",
        "    train_labels = np.concatenate(train_labels, axis=0)\n",
        "    test_data = np.concatenate(test_data, axis=0)\n",
        "    test_labels = np.concatenate(test_labels, axis=0)\n",
        "\n",
        "    # Calculate average face and normalize training and test faces\n",
        "    avg_face = np.mean(train_data, axis=0)\n",
        "    train_norm = train_data - avg_face\n",
        "    test_norm = test_data - avg_face\n",
        "\n",
        "    # Calculate covariance matrix and eigenvalues/eigenvectors\n",
        "    cov_mat = np.cov(train_norm.T)\n",
        "    eig_vals, eig_vecs = np.linalg.eig(cov_mat)\n",
        "\n",
        "    # Sort eigenvectors by decreasing eigenvalues and select K\n",
        "    sorted_indices = np.argsort(eig_vals)[::-1]\n",
        "    eig_vecs = eig_vecs[:, sorted_indices]\n",
        "    K = 100  # Number of eigenfaces to use\n",
        "    eig_vecs = eig_vecs[:, :K]\n",
        "\n",
        "    # Project normalized training faces onto K eigenvectors\n",
        "    train_coeffs = np.dot(train_norm, eig_vecs)\n",
        "\n",
        "    # Predict labels for test set\n",
        "    test_coeffs = np.dot(test_norm, eig_vecs)\n",
        "    predicted = []\n",
        "    for i in range(len(test_labels)):\n",
        "        distances = np.linalg.norm(train_coeffs - test_coeffs[i], axis=1)\n",
        "        closest_match = np.argmin(distances)\n",
        "        predicted.append(train_labels[closest_match])\n",
        "\n",
        "    # Calculate accuracy\n",
        "    # accuracy = np.mean(predicted == test_labels)\n",
        "    # print(f\"Accuracy: {accuracy}\")\n",
        "    # classification_errors.append(accuracy)\n",
        "    # classification_errors.append(accuracy)\n",
        "\n",
        "    # calculate classification error rate\n",
        "    classification_error_rate = np.sum(predicted != test_labels) / len(test_labels) * 100\n",
        "    print(f\"Classification Error Rate: {classification_error_rate}\")\n",
        "\n",
        "    # store classification error rate\n",
        "    classification_errors.append(classification_error_rate)\n"
      ]
    },
    {
      "cell_type": "code",
      "execution_count": null,
      "metadata": {
        "id": "5v0b-ukR348v",
        "outputId": "a1009053-d2be-4761-d556-ed2a031473b8"
      },
      "outputs": [
        {
          "data": {
            "image/png": "[encoded data removed]",
            "text/plain": [
              "<Figure size 432x288 with 1 Axes>"
            ]
          },
          "metadata": {
            "needs_background": "light"
          },
          "output_type": "display_data"
        }
      ],
      "source": [
        "# plot Classification Error Rate vs Number of Trainings Samples curves\n",
        "plt.plot(m_values, classification_errors)\n",
        "plt.xlabel('Number of Training Samples')\n",
        "plt.ylabel('Classification Error Rate (%)')\n",
        "plt.title('Eigenfaces (PCA) Classification Error')\n",
        "plt.show()\n"
      ]
    },
    {
      "cell_type": "code",
      "execution_count": null,
      "metadata": {
        "id": "VHa7nAIa348w"
      },
      "outputs": [],
      "source": [
        "# define range of m values to try\n",
        "m_values = [10, 20, 30, 40, 50]\n",
        "\n",
        "# initialize variables to store classification errors for each value of m\n",
        "classification_errors = []\n"
      ]
    },
    {
      "cell_type": "code",
      "execution_count": null,
      "metadata": {
        "id": "VYq4lk5Y348w",
        "outputId": "0949bffc-fbf4-40d4-f3e4-a96c6c098520"
      },
      "outputs": [
        {
          "name": "stdout",
          "output_type": "stream",
          "text": [
            "Classification Error Rate: 59.34119960668633\n",
            "Classification Error Rate: 47.15840386940749\n",
            "Classification Error Rate: 38.775510204081634\n",
            "Classification Error Rate: 39.261744966442954\n",
            "Classification Error Rate: 32.295719844357976\n"
          ]
        }
      ],
      "source": [
        "\n",
        "# loop over m values\n",
        "for m in m_values:\n",
        "    # randomly select m images per individual to form the training set\n",
        "    train_data = []\n",
        "    train_labels = []\n",
        "    test_data = []\n",
        "    test_labels = []\n",
        "    for label in np.unique(gnd):\n",
        "        label_indices = np.where(gnd == label)[0]\n",
        "        np.random.shuffle(label_indices)\n",
        "        train_indices = label_indices[:m]\n",
        "        test_indices = label_indices[m:]\n",
        "        train_data.append(fea[train_indices])\n",
        "        train_labels.append(gnd[train_indices])\n",
        "        test_data.append(fea[test_indices])\n",
        "        test_labels.append(gnd[test_indices])\n",
        "    train_data = np.concatenate(train_data, axis=0)\n",
        "    train_labels = np.concatenate(train_labels, axis=0)\n",
        "    test_data = np.concatenate(test_data, axis=0)\n",
        "    test_labels = np.concatenate(test_labels, axis=0)\n",
        "\n",
        "    # convert training data into vectors\n",
        "    train_vectors = train_data - train_data.mean(axis=0)\n",
        "\n",
        "    # compute covariance matrix\n",
        "    cov_matrix = np.cov(train_vectors.T)\n",
        "\n",
        "    # compute eigenvectors and eigenvalues of covariance matrix\n",
        "    eigenvalues, eigenvectors = np.linalg.eig(cov_matrix)\n",
        "\n",
        "    # sort eigenvectors by decreasing eigenvalue\n",
        "    sorted_indices = eigenvalues.argsort()[::-1]\n",
        "    eigenvectors = eigenvectors[:, sorted_indices]\n",
        "\n",
        "    # select m largest eigenvectors and normalize them\n",
        "    eigenfaces = eigenvectors[:, :100]\n",
        "    eigenfaces /= np.linalg.norm(eigenfaces, axis=0)\n",
        "\n",
        "    # project training data onto eigenfaces\n",
        "    train_projections = np.dot(train_vectors, eigenfaces)\n",
        "\n",
        "    # project test data onto eigenfaces\n",
        "    test_vectors = test_data - train_data.mean(axis=0)\n",
        "    test_projections = np.dot(test_vectors, eigenfaces)\n",
        "\n",
        "    # find closest training image for each test image\n",
        "    train_indices = []\n",
        "    for i in range(test_data.shape[0]):\n",
        "        distances = np.linalg.norm(\n",
        "            train_projections - test_projections[i], axis=1)\n",
        "        train_indices.append(np.argmin(distances))\n",
        "    train_indices = np.array(train_indices)\n",
        "\n",
        "    # predict labels of test images\n",
        "    predicted_labels = train_labels[train_indices]\n",
        "\n",
        "    classification_error_rate = np.sum(\n",
        "        predicted_labels != test_labels) / test_labels.shape[0] * 100\n",
        "\n",
        "    print(f\"Classification Error Rate: {classification_error_rate}\")\n",
        "\n",
        "    # compute classification error rate\n",
        "    classification_errors.append(classification_error_rate)\n"
      ]
    },
    {
      "cell_type": "code",
      "execution_count": null,
      "metadata": {
        "id": "9L8XodUO348x",
        "outputId": "079fd099-870b-476d-be15-7e2b9683f7b2"
      },
      "outputs": [
        {
          "data": {
            "image/png": "[encoded data removed]",
            "text/plain": [
              "<Figure size 432x288 with 1 Axes>"
            ]
          },
          "metadata": {
            "needs_background": "light"
          },
          "output_type": "display_data"
        }
      ],
      "source": [
        "\n",
        "# plot classification errors vs. number of training samples\n",
        "plt.plot(m_values, classification_errors, '-o')\n",
        "plt.xlabel('Number of Training Samples')\n",
        "plt.ylabel('Classification Error Rate (%)')\n",
        "plt.title('Eigenfaces (PCA)')\n",
        "plt.show()\n"
      ]
    }
  ],
  "metadata": {
    "kernelspec": {
      "display_name": "Python 3",
      "language": "python",
      "name": "python3"
    },
    "language_info": {
      "codemirror_mode": {
        "name": "ipython",
        "version": 3
      },
      "file_extension": ".py",
      "mimetype": "text/x-python",
      "name": "python",
      "nbconvert_exporter": "python",
      "pygments_lexer": "ipython3",
      "version": "3.9.13"
    },
    "orig_nbformat": 4,
    "vscode": {
      "interpreter": {
        "hash": "aee8b7b246df8f9039afb4144a1f6fd8d2ca17a180786b69acc140d282b71a49"
      }
    },
    "colab": {
      "provenance": [],
      "include_colab_link": true
    }
  },
  "nbformat": 4,
  "nbformat_minor": 0
}